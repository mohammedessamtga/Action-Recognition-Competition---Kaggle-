{
  "nbformat": 4,
  "nbformat_minor": 0,
  "metadata": {
    "colab": {
      "name": "CNN LSTM 3rd submission.ipynb",
      "provenance": [],
      "collapsed_sections": [],
      "toc_visible": true,
      "machine_shape": "hm"
    },
    "kernelspec": {
      "name": "python3",
      "display_name": "Python 3"
    },
    "accelerator": "GPU"
  },
  "cells": [
    {
      "cell_type": "markdown",
      "metadata": {
        "id": "WDXOwNPd5pKL",
        "colab_type": "text"
      },
      "source": [
        "# Imports "
      ]
    },
    {
      "cell_type": "code",
      "metadata": {
        "id": "jpMXMWG_5i6g",
        "colab_type": "code",
        "outputId": "9ed87e59-faab-43a5-84be-3b47b8472728",
        "colab": {
          "base_uri": "https://localhost:8080/",
          "height": 34
        }
      },
      "source": [
        "from keras.models import Sequential, Model\n",
        "from keras.layers import Input, Dense, Dropout, Flatten\n",
        "from keras.layers.convolutional import Conv3D, MaxPooling3D, ZeroPadding3D\n",
        "import numpy as np \n",
        "import os \n",
        "from keras.layers.wrappers import TimeDistributed\n",
        "from keras.layers.convolutional import (Conv2D, MaxPooling3D, Conv3D,MaxPooling2D)\n",
        "import cv2\n",
        "import pandas as pd\n",
        "from sklearn.model_selection import train_test_split\n",
        "from keras.utils import to_categorical \n",
        "from keras.callbacks import ReduceLROnPlateau\n",
        "from keras.callbacks import ModelCheckpoint\n",
        "from keras.layers.recurrent import LSTM\n",
        "import keras "
      ],
      "execution_count": 1,
      "outputs": [
        {
          "output_type": "stream",
          "text": [
            "Using TensorFlow backend.\n"
          ],
          "name": "stderr"
        }
      ]
    },
    {
      "cell_type": "code",
      "metadata": {
        "id": "hUMqIRT_Ijh7",
        "colab_type": "code",
        "outputId": "0f5138ec-7d85-4931-dea8-35c84746c5ec",
        "colab": {
          "base_uri": "https://localhost:8080/",
          "height": 322
        }
      },
      "source": [
        "!pip uninstall -y kaggle \n",
        "!pip install kaggle==1.5.6\n",
        "%env KAGGLE_USERNAME =thesniper\n",
        "%env KAGGLE_KEY =f5a849dfb011d6d68a526d96bdac49a3"
      ],
      "execution_count": 2,
      "outputs": [
        {
          "output_type": "stream",
          "text": [
            "Uninstalling kaggle-1.5.6:\n",
            "  Successfully uninstalled kaggle-1.5.6\n",
            "Processing /root/.cache/pip/wheels/57/4e/e8/bb28d035162fb8f17f8ca5d42c3230e284c6aa565b42b72674/kaggle-1.5.6-cp36-none-any.whl\n",
            "Requirement already satisfied: certifi in /usr/local/lib/python3.6/dist-packages (from kaggle==1.5.6) (2020.4.5.1)\n",
            "Requirement already satisfied: requests in /usr/local/lib/python3.6/dist-packages (from kaggle==1.5.6) (2.23.0)\n",
            "Requirement already satisfied: tqdm in /usr/local/lib/python3.6/dist-packages (from kaggle==1.5.6) (4.41.1)\n",
            "Requirement already satisfied: six>=1.10 in /usr/local/lib/python3.6/dist-packages (from kaggle==1.5.6) (1.12.0)\n",
            "Requirement already satisfied: python-slugify in /usr/local/lib/python3.6/dist-packages (from kaggle==1.5.6) (4.0.0)\n",
            "Requirement already satisfied: python-dateutil in /usr/local/lib/python3.6/dist-packages (from kaggle==1.5.6) (2.8.1)\n",
            "Requirement already satisfied: urllib3<1.25,>=1.21.1 in /usr/local/lib/python3.6/dist-packages (from kaggle==1.5.6) (1.24.3)\n",
            "Requirement already satisfied: chardet<4,>=3.0.2 in /usr/local/lib/python3.6/dist-packages (from requests->kaggle==1.5.6) (3.0.4)\n",
            "Requirement already satisfied: idna<3,>=2.5 in /usr/local/lib/python3.6/dist-packages (from requests->kaggle==1.5.6) (2.9)\n",
            "Requirement already satisfied: text-unidecode>=1.3 in /usr/local/lib/python3.6/dist-packages (from python-slugify->kaggle==1.5.6) (1.3)\n",
            "Installing collected packages: kaggle\n",
            "Successfully installed kaggle-1.5.6\n",
            "env: KAGGLE_USERNAME=thesniper\n",
            "env: KAGGLE_KEY=f5a849dfb011d6d68a526d96bdac49a3\n"
          ],
          "name": "stdout"
        }
      ]
    },
    {
      "cell_type": "code",
      "metadata": {
        "id": "hJ5y70mc-DSK",
        "colab_type": "code",
        "outputId": "845f1c48-20a8-4df5-c88e-ca0b7da22a9b",
        "colab": {
          "base_uri": "https://localhost:8080/",
          "height": 54
        }
      },
      "source": [
        "from google.colab import drive \n",
        "drive.mount('/content/gdrive')"
      ],
      "execution_count": 3,
      "outputs": [
        {
          "output_type": "stream",
          "text": [
            "Drive already mounted at /content/gdrive; to attempt to forcibly remount, call drive.mount(\"/content/gdrive\", force_remount=True).\n"
          ],
          "name": "stdout"
        }
      ]
    },
    {
      "cell_type": "markdown",
      "metadata": {
        "id": "W3dwfJ5S9vsA",
        "colab_type": "text"
      },
      "source": [
        "# Create Model  \n"
      ]
    },
    {
      "cell_type": "code",
      "metadata": {
        "id": "rs64qNbbs50P",
        "colab_type": "code",
        "colab": {}
      },
      "source": [
        "from keras.applications.vgg16 import VGG16, preprocess_input\n",
        "from keras.models import load_model\n",
        "def create_model_sequential():\n",
        "    model = VGG16(weights='imagenet')\n",
        "    return model\n",
        "\n",
        "def create_features_exctractor(model, layer_name='fc2'):\n",
        "    extractor = Model(inputs=model.input,\n",
        "                      outputs=model.get_layer(layer_name).output)\n",
        "    return extractor"
      ],
      "execution_count": 0,
      "outputs": []
    },
    {
      "cell_type": "code",
      "metadata": {
        "id": "-x8bVRcitVAh",
        "colab_type": "code",
        "colab": {
          "base_uri": "https://localhost:8080/",
          "height": 941
        },
        "outputId": "c93b2b52-6afa-4acc-b736-ff26570a17a4"
      },
      "source": [
        "model = create_model_sequential()\n",
        "print(model.summary())\n",
        "model = create_features_exctractor(model)"
      ],
      "execution_count": 37,
      "outputs": [
        {
          "output_type": "stream",
          "text": [
            "Model: \"vgg16\"\n",
            "_________________________________________________________________\n",
            "Layer (type)                 Output Shape              Param #   \n",
            "=================================================================\n",
            "input_4 (InputLayer)         (None, 224, 224, 3)       0         \n",
            "_________________________________________________________________\n",
            "block1_conv1 (Conv2D)        (None, 224, 224, 64)      1792      \n",
            "_________________________________________________________________\n",
            "block1_conv2 (Conv2D)        (None, 224, 224, 64)      36928     \n",
            "_________________________________________________________________\n",
            "block1_pool (MaxPooling2D)   (None, 112, 112, 64)      0         \n",
            "_________________________________________________________________\n",
            "block2_conv1 (Conv2D)        (None, 112, 112, 128)     73856     \n",
            "_________________________________________________________________\n",
            "block2_conv2 (Conv2D)        (None, 112, 112, 128)     147584    \n",
            "_________________________________________________________________\n",
            "block2_pool (MaxPooling2D)   (None, 56, 56, 128)       0         \n",
            "_________________________________________________________________\n",
            "block3_conv1 (Conv2D)        (None, 56, 56, 256)       295168    \n",
            "_________________________________________________________________\n",
            "block3_conv2 (Conv2D)        (None, 56, 56, 256)       590080    \n",
            "_________________________________________________________________\n",
            "block3_conv3 (Conv2D)        (None, 56, 56, 256)       590080    \n",
            "_________________________________________________________________\n",
            "block3_pool (MaxPooling2D)   (None, 28, 28, 256)       0         \n",
            "_________________________________________________________________\n",
            "block4_conv1 (Conv2D)        (None, 28, 28, 512)       1180160   \n",
            "_________________________________________________________________\n",
            "block4_conv2 (Conv2D)        (None, 28, 28, 512)       2359808   \n",
            "_________________________________________________________________\n",
            "block4_conv3 (Conv2D)        (None, 28, 28, 512)       2359808   \n",
            "_________________________________________________________________\n",
            "block4_pool (MaxPooling2D)   (None, 14, 14, 512)       0         \n",
            "_________________________________________________________________\n",
            "block5_conv1 (Conv2D)        (None, 14, 14, 512)       2359808   \n",
            "_________________________________________________________________\n",
            "block5_conv2 (Conv2D)        (None, 14, 14, 512)       2359808   \n",
            "_________________________________________________________________\n",
            "block5_conv3 (Conv2D)        (None, 14, 14, 512)       2359808   \n",
            "_________________________________________________________________\n",
            "block5_pool (MaxPooling2D)   (None, 7, 7, 512)         0         \n",
            "_________________________________________________________________\n",
            "flatten (Flatten)            (None, 25088)             0         \n",
            "_________________________________________________________________\n",
            "fc1 (Dense)                  (None, 4096)              102764544 \n",
            "_________________________________________________________________\n",
            "fc2 (Dense)                  (None, 4096)              16781312  \n",
            "_________________________________________________________________\n",
            "predictions (Dense)          (None, 1000)              4097000   \n",
            "=================================================================\n",
            "Total params: 138,357,544\n",
            "Trainable params: 138,357,544\n",
            "Non-trainable params: 0\n",
            "_________________________________________________________________\n",
            "None\n"
          ],
          "name": "stdout"
        }
      ]
    },
    {
      "cell_type": "code",
      "metadata": {
        "id": "Vs-A712X6HId",
        "colab_type": "code",
        "colab": {}
      },
      "source": [
        "input_layer = keras.Input(batch_shape=(1,30,224,224,3))\n",
        "h2 = keras.layers.wrappers.TimeDistributed(model)(input_layer)\n",
        "x  = TimeDistributed(Flatten())(h2)\n",
        "x = Dropout(0.5)(x)\n",
        "x = LSTM(256, return_sequences=False, dropout=0.5)(x)\n",
        "x = Dense(5, activation='softmax')(x)\n",
        "model = keras.Model(input_layer,x)"
      ],
      "execution_count": 0,
      "outputs": []
    },
    {
      "cell_type": "code",
      "metadata": {
        "id": "EnoFzS-xvG0O",
        "colab_type": "code",
        "colab": {
          "base_uri": "https://localhost:8080/",
          "height": 353
        },
        "outputId": "3ba0cbbe-9ed7-4e7a-d8ff-f0ea424d76a4"
      },
      "source": [
        "model.summary()"
      ],
      "execution_count": 7,
      "outputs": [
        {
          "output_type": "stream",
          "text": [
            "Model: \"model_2\"\n",
            "_________________________________________________________________\n",
            "Layer (type)                 Output Shape              Param #   \n",
            "=================================================================\n",
            "input_2 (InputLayer)         (1, 30, 224, 224, 3)      0         \n",
            "_________________________________________________________________\n",
            "time_distributed_1 (TimeDist (1, 30, 4096)             134260544 \n",
            "_________________________________________________________________\n",
            "time_distributed_2 (TimeDist (1, 30, 4096)             0         \n",
            "_________________________________________________________________\n",
            "dropout_1 (Dropout)          (1, 30, 4096)             0         \n",
            "_________________________________________________________________\n",
            "lstm_1 (LSTM)                (1, 256)                  4457472   \n",
            "_________________________________________________________________\n",
            "dense_1 (Dense)              (1, 5)                    1285      \n",
            "=================================================================\n",
            "Total params: 138,719,301\n",
            "Trainable params: 138,719,301\n",
            "Non-trainable params: 0\n",
            "_________________________________________________________________\n"
          ],
          "name": "stdout"
        }
      ]
    },
    {
      "cell_type": "markdown",
      "metadata": {
        "id": "2qSZ2QHR-cJA",
        "colab_type": "text"
      },
      "source": [
        "# Test For Model"
      ]
    },
    {
      "cell_type": "code",
      "metadata": {
        "id": "dn2tjzNn_Pwj",
        "colab_type": "code",
        "colab": {}
      },
      "source": [
        "for layer in model.layers:\n",
        "    layer.trainable = False\n",
        "\n",
        "model.layers[-1].trainable = True\n",
        "model.layers[-2].trainable = True "
      ],
      "execution_count": 0,
      "outputs": []
    },
    {
      "cell_type": "code",
      "metadata": {
        "id": "_abJsgnWw0oa",
        "colab_type": "code",
        "colab": {
          "base_uri": "https://localhost:8080/",
          "height": 353
        },
        "outputId": "47e61340-8d74-425b-8b00-72f5c3a0ab0d"
      },
      "source": [
        "model.summary()"
      ],
      "execution_count": 9,
      "outputs": [
        {
          "output_type": "stream",
          "text": [
            "Model: \"model_2\"\n",
            "_________________________________________________________________\n",
            "Layer (type)                 Output Shape              Param #   \n",
            "=================================================================\n",
            "input_2 (InputLayer)         (1, 30, 224, 224, 3)      0         \n",
            "_________________________________________________________________\n",
            "time_distributed_1 (TimeDist (1, 30, 4096)             134260544 \n",
            "_________________________________________________________________\n",
            "time_distributed_2 (TimeDist (1, 30, 4096)             0         \n",
            "_________________________________________________________________\n",
            "dropout_1 (Dropout)          (1, 30, 4096)             0         \n",
            "_________________________________________________________________\n",
            "lstm_1 (LSTM)                (1, 256)                  4457472   \n",
            "_________________________________________________________________\n",
            "dense_1 (Dense)              (1, 5)                    1285      \n",
            "=================================================================\n",
            "Total params: 138,719,301\n",
            "Trainable params: 4,458,757\n",
            "Non-trainable params: 134,260,544\n",
            "_________________________________________________________________\n"
          ],
          "name": "stdout"
        }
      ]
    },
    {
      "cell_type": "code",
      "metadata": {
        "id": "pTJ76-Akaf1N",
        "colab_type": "code",
        "colab": {}
      },
      "source": [
        "map = {\n",
        "\t'Diving' :\t0,\n",
        "\t'Jumping' :\t1,\n",
        "\t'Basketball':\t2,\n",
        "\t'Tennis':\t3,\n",
        "\t'Walking':\t4}\n",
        "classes = ['Diving',\n",
        "\t'Jumping',\n",
        "\t'Basketball',\n",
        "\t'Tennis',\n",
        "\t'Walking']"
      ],
      "execution_count": 0,
      "outputs": []
    },
    {
      "cell_type": "code",
      "metadata": {
        "id": "ZGr8wZZ0ceD4",
        "colab_type": "code",
        "outputId": "275e58b8-0509-428f-96e9-c05d1f1942bf",
        "colab": {
          "base_uri": "https://localhost:8080/",
          "height": 185
        }
      },
      "source": [
        "path = '/content/gdrive/My Drive/vision project/Training'\n",
        "data=[]\n",
        "labels=[]\n",
        "for folder in os.listdir(path):\n",
        "    print(folder)\n",
        "    ctr0 = 0 \n",
        "    ctr1 = 0 \n",
        "    for video in os.listdir(os.path.join(path,folder)):\n",
        "        frames=[]\n",
        "        cap=cv2.VideoCapture(path+'/'+folder+'/'+video)\n",
        "        length = int(cap.get(cv2.CAP_PROP_FRAME_COUNT))\n",
        "        while(True):\n",
        "              ret, frame = cap.read()\n",
        "              if frame is None : \n",
        "                 break\n",
        "              frame=cv2.resize(frame,(224,224))\n",
        "              frames.append(frame)\n",
        "        for i in range(0,np.shape(frames)[0],30):\n",
        "           if i+30 < np.shape(frames)[0]:\n",
        "              data.append(frames[i:i+30])\n",
        "              labels.append(map[folder])\n",
        "    print(np.shape(data))       \n"
      ],
      "execution_count": 11,
      "outputs": [
        {
          "output_type": "stream",
          "text": [
            "Basketball\n",
            "(356, 30, 224, 224, 3)\n",
            "Tennis\n",
            "(882, 30, 224, 224, 3)\n",
            "Diving\n",
            "(1470, 30, 224, 224, 3)\n",
            "Jumping\n",
            "(2095, 30, 224, 224, 3)\n",
            "Walking\n",
            "(2546, 30, 224, 224, 3)\n"
          ],
          "name": "stdout"
        }
      ]
    },
    {
      "cell_type": "code",
      "metadata": {
        "id": "KNQJp3bO6m6p",
        "colab_type": "code",
        "colab": {}
      },
      "source": [
        "labels = np.reshape(labels,(np.shape(labels)[0],1))\n",
        "data = np.array(data)"
      ],
      "execution_count": 0,
      "outputs": []
    },
    {
      "cell_type": "code",
      "metadata": {
        "id": "npnVocjLb-yf",
        "colab_type": "code",
        "colab": {
          "base_uri": "https://localhost:8080/",
          "height": 34
        },
        "outputId": "777bd288-f6de-484b-c28a-92552dd90f41"
      },
      "source": [
        "np.shape(X_test)"
      ],
      "execution_count": 25,
      "outputs": [
        {
          "output_type": "execute_result",
          "data": {
            "text/plain": [
              "(255, 30, 224, 224, 3)"
            ]
          },
          "metadata": {
            "tags": []
          },
          "execution_count": 25
        }
      ]
    },
    {
      "cell_type": "code",
      "metadata": {
        "id": "f0xaogNeIIeQ",
        "colab_type": "code",
        "colab": {}
      },
      "source": [
        "X_train,X_test,y_train,y_test = train_test_split(data,labels,test_size=0.1,stratify=labels,random_state=42,shuffle=True)"
      ],
      "execution_count": 0,
      "outputs": []
    },
    {
      "cell_type": "code",
      "metadata": {
        "id": "4JbpU1aXLOfb",
        "colab_type": "code",
        "colab": {}
      },
      "source": [
        "y_train = to_categorical(y_train)\n",
        "y_test = to_categorical(y_test)"
      ],
      "execution_count": 0,
      "outputs": []
    },
    {
      "cell_type": "code",
      "metadata": {
        "id": "NtDNeOlqXG0M",
        "colab_type": "code",
        "outputId": "180e42e3-fe3a-4a1a-ef64-10dd3be3d154",
        "colab": {
          "base_uri": "https://localhost:8080/",
          "height": 34
        }
      },
      "source": [
        "y_train[0]"
      ],
      "execution_count": 15,
      "outputs": [
        {
          "output_type": "execute_result",
          "data": {
            "text/plain": [
              "array([0., 0., 1., 0., 0.], dtype=float32)"
            ]
          },
          "metadata": {
            "tags": []
          },
          "execution_count": 15
        }
      ]
    },
    {
      "cell_type": "code",
      "metadata": {
        "id": "ZQcghcvmJslu",
        "colab_type": "code",
        "colab": {}
      },
      "source": [
        "checkpoint = ModelCheckpoint(\"best_model_cnnlstm.hdf5\", monitor='loss', verbose=1,\n",
        "    save_best_only=True, mode='auto', period=1)\n",
        "reduce_learning_rate = ReduceLROnPlateau(monitor='loss',\n",
        "                                         factor=0.1,\n",
        "                                         patience=2,\n",
        "                                         cooldown=2,\n",
        "                                         min_lr=0.00001,\n",
        "                                         verbose=1)\n",
        "callbacks=reduce_learning_rate"
      ],
      "execution_count": 0,
      "outputs": []
    },
    {
      "cell_type": "code",
      "metadata": {
        "id": "fVtKlu1SK_Tb",
        "colab_type": "code",
        "outputId": "c9c510f5-80a6-4e82-d76f-dc567ae7ef6a",
        "colab": {
          "base_uri": "https://localhost:8080/",
          "height": 339
        }
      },
      "source": [
        "model.compile(optimizer='adam',loss='categorical_crossentropy',metrics=['accuracy'])\n",
        "model.fit(X_train,y_train,validation_data=(X_test,y_test),epochs = 4 , batch_size=1 , shuffle=True, callbacks=[callbacks,checkpoint])"
      ],
      "execution_count": 17,
      "outputs": [
        {
          "output_type": "stream",
          "text": [
            "Train on 2291 samples, validate on 255 samples\n",
            "Epoch 1/4\n",
            "2291/2291 [==============================] - 2003s 874ms/step - loss: 0.2390 - accuracy: 0.9223 - val_loss: 0.1085 - val_accuracy: 0.9608\n",
            "\n",
            "Epoch 00001: loss improved from inf to 0.23904, saving model to best_model_cnnlstm.hdf5\n",
            "Epoch 2/4\n",
            "2291/2291 [==============================] - 1997s 872ms/step - loss: 0.0828 - accuracy: 0.9769 - val_loss: 0.0527 - val_accuracy: 0.9843\n",
            "\n",
            "Epoch 00002: loss improved from 0.23904 to 0.08283, saving model to best_model_cnnlstm.hdf5\n",
            "Epoch 3/4\n",
            "2291/2291 [==============================] - 1996s 871ms/step - loss: 0.0402 - accuracy: 0.9873 - val_loss: 0.0659 - val_accuracy: 0.9725\n",
            "\n",
            "Epoch 00003: loss improved from 0.08283 to 0.04020, saving model to best_model_cnnlstm.hdf5\n",
            "Epoch 4/4\n",
            "2291/2291 [==============================] - 1997s 872ms/step - loss: 0.0266 - accuracy: 0.9908 - val_loss: 0.0126 - val_accuracy: 0.9961\n",
            "\n",
            "Epoch 00004: loss improved from 0.04020 to 0.02657, saving model to best_model_cnnlstm.hdf5\n"
          ],
          "name": "stdout"
        },
        {
          "output_type": "execute_result",
          "data": {
            "text/plain": [
              "<keras.callbacks.callbacks.History at 0x7f84aa719f28>"
            ]
          },
          "metadata": {
            "tags": []
          },
          "execution_count": 17
        }
      ]
    },
    {
      "cell_type": "markdown",
      "metadata": {
        "id": "R8rb0AkuOM79",
        "colab_type": "text"
      },
      "source": [
        "# Confusion Matrix "
      ]
    },
    {
      "cell_type": "code",
      "metadata": {
        "id": "1Y30CFr0OMgJ",
        "colab_type": "code",
        "outputId": "a8994d4f-8c49-4049-cdb6-189f2cbc9cc5",
        "colab": {
          "base_uri": "https://localhost:8080/",
          "height": 366
        }
      },
      "source": [
        "from sklearn.metrics import confusion_matrix,plot_confusion_matrix\n",
        "import seaborn as sn\n",
        "y_pred = []\n",
        "for item in X_test : \n",
        "    y_ = model.predict(np.reshape(item,(1,30,224,224,3)))\n",
        "    y_pred.append(np.argmax(y_,axis=1))\n",
        "y_pred = np.array(y_pred)\n",
        "cm =confusion_matrix(np.argmax(y_test,axis=1), y_pred).tolist()\n",
        "cm =  pd.DataFrame(cm, index=classes, columns=classes)\n",
        "print(cm)\n",
        "ax = sn.heatmap(cm, cmap='Blues', annot=True,fmt=\"d\")"
      ],
      "execution_count": 27,
      "outputs": [
        {
          "output_type": "stream",
          "text": [
            "            Diving  Jumping  Basketball  Tennis  Walking\n",
            "Diving          59        0           0       0        0\n",
            "Jumping          0       62           0       0        0\n",
            "Basketball       0        0          36       0        0\n",
            "Tennis           0        0           0      53        0\n",
            "Walking          0        1           0       0       44\n"
          ],
          "name": "stdout"
        },
        {
          "output_type": "display_data",
          "data": {
            "image/png": "[encoded data removed]",
            "text/plain": [
              "<Figure size 432x288 with 2 Axes>"
            ]
          },
          "metadata": {
            "tags": [],
            "needs_background": "light"
          }
        }
      ]
    },
    {
      "cell_type": "code",
      "metadata": {
        "id": "WLaWr09qbc-K",
        "colab_type": "code",
        "colab": {}
      },
      "source": [
        "# Free some space \n",
        "X_train = [] \n",
        "X_test = [] \n",
        "y_train = [] \n",
        "y_test = [] \n",
        "y_pred = [] "
      ],
      "execution_count": 0,
      "outputs": []
    },
    {
      "cell_type": "code",
      "metadata": {
        "id": "DGUR2Pt6c440",
        "colab_type": "code",
        "outputId": "c8cc7f60-a4f7-4780-eb92-a6e10d4b85c5",
        "colab": {
          "base_uri": "https://localhost:8080/",
          "height": 121
        }
      },
      "source": [
        "model.fit(data,to_categorical(labels),batch_size=1,epochs = 2 , shuffle=True)"
      ],
      "execution_count": 29,
      "outputs": [
        {
          "output_type": "stream",
          "text": [
            "Epoch 1/2\n",
            "2546/2546 [==============================] - 2006s 788ms/step - loss: 0.0222 - accuracy: 0.9949\n",
            "Epoch 2/2\n",
            "2546/2546 [==============================] - 2005s 787ms/step - loss: 0.0149 - accuracy: 0.9957\n"
          ],
          "name": "stdout"
        },
        {
          "output_type": "execute_result",
          "data": {
            "text/plain": [
              "<keras.callbacks.callbacks.History at 0x7f84aa790e80>"
            ]
          },
          "metadata": {
            "tags": []
          },
          "execution_count": 29
        }
      ]
    },
    {
      "cell_type": "code",
      "metadata": {
        "id": "PVwEDdm9uVt9",
        "colab_type": "code",
        "colab": {}
      },
      "source": [
        "# Free some space \n",
        "data = [] \n",
        "labels = [] "
      ],
      "execution_count": 0,
      "outputs": []
    },
    {
      "cell_type": "code",
      "metadata": {
        "id": "zxUXdZ4Xcz_4",
        "colab_type": "code",
        "outputId": "55ca7d87-9946-4708-b11d-d9cef471dcba",
        "colab": {
          "base_uri": "https://localhost:8080/",
          "height": 1000
        }
      },
      "source": [
        "test_path = '/content/gdrive/My Drive/vision project/Testing'\n",
        "lab =[]\n",
        "names=[]\n",
        "for video in os.listdir(test_path):\n",
        "        frames=[]\n",
        "        cap=cv2.VideoCapture(test_path+'/'+video)\n",
        "        length = int(cap.get(cv2.CAP_PROP_FRAME_COUNT))\n",
        "        while(True):\n",
        "              ret, frame = cap.read()\n",
        "              if frame is None : \n",
        "                 break\n",
        "              frame=cv2.resize(frame,(224,224))\n",
        "              frames.append(frame)\n",
        "        prds = np.zeros((5,1))\n",
        "        for i in range(0,np.shape(frames)[0],30):\n",
        "           if i+30 < np.shape(frames)[0]:\n",
        "             prd = model.predict(np.reshape(frames[i:i+30],(1,30,224,224,3)))\n",
        "             prd = np.argmax(prd)\n",
        "             prds[prd]+=1\n",
        "        print(np.argmax(prds))\n",
        "        print(video)\n",
        "        lab.append(np.argmax(prds))\n",
        "        names.append(video)\n",
        "              \n",
        "        "
      ],
      "execution_count": 32,
      "outputs": [
        {
          "output_type": "stream",
          "text": [
            "3\n",
            "test_image (88).mpg\n",
            "3\n",
            "test_image (89).mpg\n",
            "3\n",
            "test_image (90).mpg\n",
            "3\n",
            "test_image (91).mpg\n",
            "3\n",
            "test_image (92).mpg\n",
            "3\n",
            "test_image (93).mpg\n",
            "3\n",
            "test_image (94).mpg\n",
            "3\n",
            "test_image (95).mpg\n",
            "3\n",
            "test_image (97).mpg\n",
            "3\n",
            "test_image (98).mpg\n",
            "3\n",
            "test_image (96).mpg\n",
            "3\n",
            "test_image (100).mpg\n",
            "3\n",
            "test_image (99).mpg\n",
            "3\n",
            "test_image (101).mpg\n",
            "3\n",
            "test_image (103).mpg\n",
            "3\n",
            "test_image (102).mpg\n",
            "3\n",
            "test_image (105).mpg\n",
            "3\n",
            "test_image (104).mpg\n",
            "3\n",
            "test_image (106).mpg\n",
            "3\n",
            "test_image (87).mpg\n",
            "1\n",
            "test_image (33).mpg\n",
            "1\n",
            "test_image (34).mpg\n",
            "1\n",
            "test_image (35).mpg\n",
            "1\n",
            "test_image (36).mpg\n",
            "1\n",
            "test_image (37).mpg\n",
            "1\n",
            "test_image (38).mpg\n",
            "1\n",
            "test_image (39).mpg\n",
            "1\n",
            "test_image (40).mpg\n",
            "1\n",
            "test_image (41).mpg\n",
            "1\n",
            "test_image (44).mpg\n",
            "1\n",
            "test_image (43).mpg\n",
            "1\n",
            "test_image (42).mpg\n",
            "1\n",
            "test_image (46).mpg\n",
            "1\n",
            "test_image (45).mpg\n",
            "1\n",
            "test_image (47).mpg\n",
            "1\n",
            "test_image (48).mpg\n",
            "1\n",
            "test_image (49).mpg\n",
            "1\n",
            "test_image (32).mpg\n",
            "1\n",
            "test_image (51).mpg\n",
            "1\n",
            "test_image (50).mpg\n",
            "4\n",
            "test_image (108).mpg\n",
            "4\n",
            "test_image (109).mpg\n",
            "4\n",
            "test_image (110).mpg\n",
            "4\n",
            "test_image (111).mpg\n",
            "4\n",
            "test_image (112).mpg\n",
            "1\n",
            "test_image (113).mpg\n",
            "4\n",
            "test_image (114).mpg\n",
            "3\n",
            "test_image (116).mpg\n",
            "4\n",
            "test_image (115).mpg\n",
            "4\n",
            "test_image (118).mpg\n",
            "4\n",
            "test_image (117).mpg\n",
            "4\n",
            "test_image (119).mpg\n",
            "4\n",
            "test_image (120).mpg\n",
            "4\n",
            "test_image (121).mpg\n",
            "4\n",
            "test_image (122).mpg\n",
            "4\n",
            "test_image (123).mpg\n",
            "4\n",
            "test_image (124).mpg\n",
            "4\n",
            "test_image (125).mpg\n",
            "4\n",
            "test_image (126).mpg\n",
            "4\n",
            "test_image (107).mpg\n",
            "2\n",
            "test_image (53).mpg\n",
            "2\n",
            "test_image (54).mpg\n",
            "2\n",
            "test_image (56).mpg\n",
            "2\n",
            "test_image (55).mpg\n",
            "2\n",
            "test_image (57).mpg\n",
            "2\n",
            "test_image (58).mpg\n",
            "2\n",
            "test_image (60).mpg\n",
            "2\n",
            "test_image (59).mpg\n",
            "2\n",
            "test_image (61).mpg\n",
            "2\n",
            "test_image (63).mpg\n",
            "2\n",
            "test_image (62).mpg\n",
            "2\n",
            "test_image (64).mpg\n",
            "2\n",
            "test_image (65).mpg\n",
            "0\n",
            "test_image (66).mpg\n",
            "1\n",
            "test_image (67).mpg\n",
            "2\n",
            "test_image (68).mpg\n",
            "2\n",
            "test_image (69).mpg\n",
            "0\n",
            "test_image (71).mpg\n",
            "0\n",
            "test_image (73).mpg\n",
            "2\n",
            "test_image (70).mpg\n",
            "2\n",
            "test_image (72).mpg\n",
            "2\n",
            "test_image (75).mpg\n",
            "1\n",
            "test_image (74).mpg\n",
            "2\n",
            "test_image (77).mpg\n",
            "2\n",
            "test_image (76).mpg\n",
            "2\n",
            "test_image (79).mpg\n",
            "2\n",
            "test_image (80).mpg\n",
            "2\n",
            "test_image (81).mpg\n",
            "2\n",
            "test_image (78).mpg\n",
            "2\n",
            "test_image (83).mpg\n",
            "2\n",
            "test_image (82).mpg\n",
            "2\n",
            "test_image (84).mpg\n",
            "2\n",
            "test_image (85).mpg\n",
            "2\n",
            "test_image (52).mpg\n",
            "2\n",
            "test_image (86).mpg\n",
            "0\n",
            "test_image (3).mpg\n",
            "0\n",
            "test_image (2).mpg\n",
            "0\n",
            "test_image (4).mpg\n",
            "0\n",
            "test_image (6).mpg\n",
            "0\n",
            "test_image (5).mpg\n",
            "0\n",
            "test_image (7).mpg\n",
            "0\n",
            "test_image (8).mpg\n",
            "0\n",
            "test_image (11).mpg\n",
            "0\n",
            "test_image (9).mpg\n",
            "0\n",
            "test_image (10).mpg\n",
            "0\n",
            "test_image (14).mpg\n",
            "0\n",
            "test_image (12).mpg\n",
            "0\n",
            "test_image (13).mpg\n",
            "0\n",
            "test_image (15).mpg\n",
            "0\n",
            "test_image (16).mpg\n",
            "0\n",
            "test_image (17).mpg\n",
            "0\n",
            "test_image (18).mpg\n",
            "0\n",
            "test_image (19).mpg\n",
            "0\n",
            "test_image (20).mpg\n",
            "0\n",
            "test_image (21).mpg\n",
            "0\n",
            "test_image (24).mpg\n",
            "0\n",
            "test_image (23).mpg\n",
            "0\n",
            "test_image (22).mpg\n",
            "0\n",
            "test_image (25).mpg\n",
            "0\n",
            "test_image (26).mpg\n",
            "0\n",
            "test_image (28).mpg\n",
            "0\n",
            "test_image (29).mpg\n",
            "0\n",
            "test_image (27).mpg\n",
            "0\n",
            "test_image (30).mpg\n",
            "0\n",
            "test_image (31).mpg\n",
            "0\n",
            "test_image (1).mpg\n"
          ],
          "name": "stdout"
        }
      ]
    },
    {
      "cell_type": "code",
      "metadata": {
        "id": "3D9L9E0Y7fRp",
        "colab_type": "code",
        "colab": {}
      },
      "source": [
        "df = pd.DataFrame(list(zip(names, lab)), \n",
        "               columns =['Video', 'Label']) "
      ],
      "execution_count": 0,
      "outputs": []
    },
    {
      "cell_type": "code",
      "metadata": {
        "id": "NvCztpLSVc1i",
        "colab_type": "code",
        "outputId": "c942c96c-223b-4818-cce9-6b9e55cfd4b6",
        "colab": {
          "base_uri": "https://localhost:8080/",
          "height": 50
        }
      },
      "source": [
        "df.to_csv('submission.csv',index=False)\n",
        "!kaggle competitions submit computervisioncompetitionsc2020 -f \"submission.csv\" -m \"vgg+lstm\""
      ],
      "execution_count": 34,
      "outputs": [
        {
          "output_type": "stream",
          "text": [
            "100% 2.74k/2.74k [00:00<00:00, 8.92kB/s]\n",
            "Successfully submitted to Computer Vision Competition [SC-2020]"
          ],
          "name": "stdout"
        }
      ]
    },
    {
      "cell_type": "code",
      "metadata": {
        "id": "-Sxa8xmEV7cF",
        "colab_type": "code",
        "colab": {}
      },
      "source": [
        "model.save('/content/gdrive/My Drive/vision project/submission3.h5')"
      ],
      "execution_count": 0,
      "outputs": []
    }
  ]
}