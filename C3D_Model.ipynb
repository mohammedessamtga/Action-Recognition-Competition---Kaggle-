{
  "nbformat": 4,
  "nbformat_minor": 0,
  "metadata": {
    "colab": {
      "name": "C3D Model 2nd submission.ipynb",
      "provenance": [],
      "collapsed_sections": [],
      "toc_visible": true,
      "machine_shape": "hm"
    },
    "kernelspec": {
      "name": "python3",
      "display_name": "Python 3"
    },
    "accelerator": "GPU"
  },
  "cells": [
    {
      "cell_type": "markdown",
      "metadata": {
        "id": "WDXOwNPd5pKL",
        "colab_type": "text"
      },
      "source": [
        "# Imports "
      ]
    },
    {
      "cell_type": "code",
      "metadata": {
        "id": "jpMXMWG_5i6g",
        "colab_type": "code",
        "outputId": "e3f03abc-b567-48d9-94d5-2c506bba9bc7",
        "colab": {
          "base_uri": "https://localhost:8080/",
          "height": 34
        }
      },
      "source": [
        "from keras.models import Sequential, Model\n",
        "from keras.layers import Input, Dense, Dropout, Flatten\n",
        "from keras.layers.convolutional import Conv3D, MaxPooling3D, ZeroPadding3D\n",
        "import numpy as np \n",
        "import os \n",
        "import cv2\n",
        "import pandas as pd\n",
        "from sklearn.model_selection import train_test_split\n",
        "from keras.utils import to_categorical \n",
        "from keras.callbacks import ReduceLROnPlateau\n",
        "from keras.callbacks import ModelCheckpoint"
      ],
      "execution_count": 0,
      "outputs": [
        {
          "output_type": "stream",
          "text": [
            "Using TensorFlow backend.\n"
          ],
          "name": "stderr"
        }
      ]
    },
    {
      "cell_type": "code",
      "metadata": {
        "id": "hUMqIRT_Ijh7",
        "colab_type": "code",
        "outputId": "745dcdc3-113e-44d0-a1d9-7d9dbd161de4",
        "colab": {
          "base_uri": "https://localhost:8080/",
          "height": 440
        }
      },
      "source": [
        "!pip uninstall -y kaggle \n",
        "!pip install kaggle==1.5.6\n",
        "%env KAGGLE_USERNAME =thesniper\n",
        "%env KAGGLE_KEY =f5a849dfb011d6d68a526d96bdac49a3"
      ],
      "execution_count": 0,
      "outputs": [
        {
          "output_type": "stream",
          "text": [
            "Uninstalling kaggle-1.5.6:\n",
            "  Successfully uninstalled kaggle-1.5.6\n",
            "Collecting kaggle==1.5.6\n",
            "\u001b[?25l  Downloading https://files.pythonhosted.org/packages/62/ab/bb20f9b9e24f9a6250f95a432f8d9a7d745f8d24039d7a5a6eaadb7783ba/kaggle-1.5.6.tar.gz (58kB)\n",
            "\u001b[K     |████████████████████████████████| 61kB 3.6MB/s \n",
            "\u001b[?25hRequirement already satisfied: urllib3<1.25,>=1.21.1 in /usr/local/lib/python3.6/dist-packages (from kaggle==1.5.6) (1.24.3)\n",
            "Requirement already satisfied: six>=1.10 in /usr/local/lib/python3.6/dist-packages (from kaggle==1.5.6) (1.12.0)\n",
            "Requirement already satisfied: certifi in /usr/local/lib/python3.6/dist-packages (from kaggle==1.5.6) (2020.4.5.1)\n",
            "Requirement already satisfied: python-dateutil in /usr/local/lib/python3.6/dist-packages (from kaggle==1.5.6) (2.8.1)\n",
            "Requirement already satisfied: requests in /usr/local/lib/python3.6/dist-packages (from kaggle==1.5.6) (2.23.0)\n",
            "Requirement already satisfied: tqdm in /usr/local/lib/python3.6/dist-packages (from kaggle==1.5.6) (4.41.1)\n",
            "Requirement already satisfied: python-slugify in /usr/local/lib/python3.6/dist-packages (from kaggle==1.5.6) (4.0.0)\n",
            "Requirement already satisfied: idna<3,>=2.5 in /usr/local/lib/python3.6/dist-packages (from requests->kaggle==1.5.6) (2.9)\n",
            "Requirement already satisfied: chardet<4,>=3.0.2 in /usr/local/lib/python3.6/dist-packages (from requests->kaggle==1.5.6) (3.0.4)\n",
            "Requirement already satisfied: text-unidecode>=1.3 in /usr/local/lib/python3.6/dist-packages (from python-slugify->kaggle==1.5.6) (1.3)\n",
            "Building wheels for collected packages: kaggle\n",
            "  Building wheel for kaggle (setup.py) ... \u001b[?25l\u001b[?25hdone\n",
            "  Created wheel for kaggle: filename=kaggle-1.5.6-cp36-none-any.whl size=72859 sha256=6d0dd6d4cc13dbeb7c0d687bb999bb52cc78b8495a8599fbaf6bb90503b90e6e\n",
            "  Stored in directory: /root/.cache/pip/wheels/57/4e/e8/bb28d035162fb8f17f8ca5d42c3230e284c6aa565b42b72674\n",
            "Successfully built kaggle\n",
            "Installing collected packages: kaggle\n",
            "Successfully installed kaggle-1.5.6\n",
            "env: KAGGLE_USERNAME=thesniper\n",
            "env: KAGGLE_KEY=f5a849dfb011d6d68a526d96bdac49a3\n"
          ],
          "name": "stdout"
        }
      ]
    },
    {
      "cell_type": "markdown",
      "metadata": {
        "id": "xSAqXJ-M6G5B",
        "colab_type": "text"
      },
      "source": [
        "# Model Architecture \n",
        "Replicate the Architecture of C3D Model "
      ]
    },
    {
      "cell_type": "code",
      "metadata": {
        "id": "ROK4zcwI6Gif",
        "colab_type": "code",
        "colab": {}
      },
      "source": [
        "def create_model_sequential():\n",
        "    \"\"\" Creates model object with the sequential API:\n",
        "    https://keras.io/models/sequential/\n",
        "    \"\"\"\n",
        "\n",
        "    model = Sequential()\n",
        "    input_shape = (16, 112, 112, 3)\n",
        "\n",
        "    model.add(Conv3D(64, (3, 3, 3), activation='relu',\n",
        "                     padding='same', name='conv1',\n",
        "                     input_shape=input_shape))\n",
        "    model.add(MaxPooling3D(pool_size=(1, 2, 2), strides=(1, 2, 2),\n",
        "                           padding='valid', name='pool1'))\n",
        "    # 2nd layer group\n",
        "    model.add(Conv3D(128, (3, 3, 3), activation='relu',\n",
        "                     padding='same', name='conv2'))\n",
        "    model.add(MaxPooling3D(pool_size=(2, 2, 2), strides=(2, 2, 2),\n",
        "                           padding='valid', name='pool2'))\n",
        "    # 3rd layer group\n",
        "    model.add(Conv3D(256, (3, 3, 3), activation='relu',\n",
        "                     padding='same', name='conv3a'))\n",
        "    model.add(Conv3D(256, (3, 3, 3), activation='relu',\n",
        "                     padding='same', name='conv3b'))\n",
        "    model.add(MaxPooling3D(pool_size=(2, 2, 2), strides=(2, 2, 2),\n",
        "                           padding='valid', name='pool3'))\n",
        "    # 4th layer group\n",
        "    model.add(Conv3D(512, (3, 3, 3), activation='relu',\n",
        "                     padding='same', name='conv4a'))\n",
        "    model.add(Conv3D(512, (3, 3, 3), activation='relu',\n",
        "                     padding='same', name='conv4b'))\n",
        "    model.add(MaxPooling3D(pool_size=(2, 2, 2), strides=(2, 2, 2),\n",
        "                           padding='valid', name='pool4'))\n",
        "    # 5th layer group\n",
        "    model.add(Conv3D(512, (3, 3, 3), activation='relu',\n",
        "                     padding='same', name='conv5a'))\n",
        "    model.add(Conv3D(512, (3, 3, 3), activation='relu',\n",
        "                     padding='same', name='conv5b'))\n",
        "    model.add(ZeroPadding3D(padding=((0, 0), (0, 1), (0, 1)), name='zeropad5'))\n",
        "    model.add(MaxPooling3D(pool_size=(2, 2, 2), strides=(2, 2, 2),\n",
        "                           padding='valid', name='pool5'))\n",
        "    model.add(Flatten())\n",
        "    # FC layers group\n",
        "    model.add(Dense(4096, activation='relu', name='fc6'))\n",
        "    model.add(Dropout(.5))\n",
        "    model.add(Dense(4096, activation='relu', name='fc7'))\n",
        "    model.add(Dropout(.5))\n",
        "    model.add(Dense(487, activation='softmax', name='fc8'))\n",
        "\n",
        "    return model\n",
        "\n",
        "def create_features_exctractor(C3D_model, layer_name='fc7'):\n",
        "    extractor = Model(inputs=C3D_model.input,\n",
        "                      outputs=C3D_model.get_layer(layer_name).output)\n",
        "    return extractor"
      ],
      "execution_count": 0,
      "outputs": []
    },
    {
      "cell_type": "markdown",
      "metadata": {
        "id": "W3dwfJ5S9vsA",
        "colab_type": "text"
      },
      "source": [
        "# Create Model and Load Weights \n"
      ]
    },
    {
      "cell_type": "code",
      "metadata": {
        "id": "Vs-A712X6HId",
        "colab_type": "code",
        "colab": {}
      },
      "source": [
        "model = create_model_sequential()"
      ],
      "execution_count": 0,
      "outputs": []
    },
    {
      "cell_type": "code",
      "metadata": {
        "id": "hJ5y70mc-DSK",
        "colab_type": "code",
        "outputId": "172e31e3-eb35-4085-d283-455466d5b04e",
        "colab": {
          "base_uri": "https://localhost:8080/",
          "height": 121
        }
      },
      "source": [
        "from google.colab import drive \n",
        "drive.mount('/content/gdrive')"
      ],
      "execution_count": 0,
      "outputs": [
        {
          "output_type": "stream",
          "text": [
            "Go to this URL in a browser: https://accounts.google.com/o/oauth2/auth?client_id=947318989803-6bn6qk8qdgf4n4g3pfee6491hc0brc4i.apps.googleusercontent.com&redirect_uri=urn%3aietf%3awg%3aoauth%3a2.0%3aoob&response_type=code&scope=email%20https%3a%2f%2fwww.googleapis.com%2fauth%2fdocs.test%20https%3a%2f%2fwww.googleapis.com%2fauth%2fdrive%20https%3a%2f%2fwww.googleapis.com%2fauth%2fdrive.photos.readonly%20https%3a%2f%2fwww.googleapis.com%2fauth%2fpeopleapi.readonly\n",
            "\n",
            "Enter your authorization code:\n",
            "··········\n",
            "Mounted at /content/gdrive\n"
          ],
          "name": "stdout"
        }
      ]
    },
    {
      "cell_type": "code",
      "metadata": {
        "id": "n_WRi_Bn-KiW",
        "colab_type": "code",
        "colab": {}
      },
      "source": [
        " model.load_weights('/content/gdrive/My Drive/C3D_Sport1M_weights_keras_2.2.4.h5')"
      ],
      "execution_count": 0,
      "outputs": []
    },
    {
      "cell_type": "markdown",
      "metadata": {
        "id": "2qSZ2QHR-cJA",
        "colab_type": "text"
      },
      "source": [
        "# Test For Model"
      ]
    },
    {
      "cell_type": "code",
      "metadata": {
        "id": "mHieq8RD-O6r",
        "colab_type": "code",
        "colab": {}
      },
      "source": [
        "model = create_features_exctractor(model)\n",
        "new_model = model.output\n",
        "new_model = Dense(5, activation=\"softmax\")(new_model)\n",
        "model = Model(inputs=model.input, outputs=new_model)"
      ],
      "execution_count": 0,
      "outputs": []
    },
    {
      "cell_type": "code",
      "metadata": {
        "id": "dn2tjzNn_Pwj",
        "colab_type": "code",
        "colab": {}
      },
      "source": [
        "for layer in model.layers:\n",
        "    layer.trainable = False\n",
        "\n",
        "model.layers[-1].trainable = True"
      ],
      "execution_count": 0,
      "outputs": []
    },
    {
      "cell_type": "code",
      "metadata": {
        "id": "pTJ76-Akaf1N",
        "colab_type": "code",
        "colab": {}
      },
      "source": [
        "map = {\n",
        "\t'Diving' :\t0,\n",
        "\t'Jumping' :\t1,\n",
        "\t'Basketball':\t2,\n",
        "\t'Tennis':\t3,\n",
        "\t'Walking':\t4}\n",
        "classes = ['Diving',\n",
        "\t'Jumping',\n",
        "\t'Basketball',\n",
        "\t'Tennis',\n",
        "\t'Walking']"
      ],
      "execution_count": 0,
      "outputs": []
    },
    {
      "cell_type": "code",
      "metadata": {
        "id": "ZGr8wZZ0ceD4",
        "colab_type": "code",
        "outputId": "e87e20cb-98d8-4bbc-b219-fa043d50994d",
        "colab": {
          "base_uri": "https://localhost:8080/",
          "height": 185
        }
      },
      "source": [
        "path = '/content/gdrive/My Drive/vision project/Training'\n",
        "data=[]\n",
        "labels=[]\n",
        "for folder in os.listdir(path):\n",
        "    print(folder)\n",
        "    ctr0 = 0 \n",
        "    ctr1 = 0 \n",
        "    for video in os.listdir(os.path.join(path,folder)):\n",
        "        frames=[]\n",
        "        cap=cv2.VideoCapture(path+'/'+folder+'/'+video)\n",
        "        length = int(cap.get(cv2.CAP_PROP_FRAME_COUNT))\n",
        "        while(True):\n",
        "              ret, frame = cap.read()\n",
        "              if frame is None : \n",
        "                 break\n",
        "              frame=cv2.resize(frame,(112,112))\n",
        "              frames.append(frame)\n",
        "        for i in range(0,np.shape(frames)[0],10):\n",
        "           if i+16 < np.shape(frames)[0]:\n",
        "              data.append(frames[i:i+16])\n",
        "              labels.append(map[folder])\n",
        "    print(np.shape(data))       \n"
      ],
      "execution_count": 0,
      "outputs": [
        {
          "output_type": "stream",
          "text": [
            "Basketball\n",
            "(1127, 16, 112, 112, 3)\n",
            "Tennis\n",
            "(2747, 16, 112, 112, 3)\n",
            "Diving\n",
            "(4537, 16, 112, 112, 3)\n",
            "Jumping\n",
            "(6476, 16, 112, 112, 3)\n",
            "Walking\n",
            "(7946, 16, 112, 112, 3)\n"
          ],
          "name": "stdout"
        }
      ]
    },
    {
      "cell_type": "code",
      "metadata": {
        "id": "KNQJp3bO6m6p",
        "colab_type": "code",
        "colab": {}
      },
      "source": [
        "labels = np.reshape(labels,(np.shape(labels)[0],1))\n",
        "data = np.array(data)"
      ],
      "execution_count": 0,
      "outputs": []
    },
    {
      "cell_type": "code",
      "metadata": {
        "id": "f0xaogNeIIeQ",
        "colab_type": "code",
        "colab": {}
      },
      "source": [
        "X_train,X_test,y_train,y_test = train_test_split(data,labels,test_size=0.1,stratify=labels,random_state=42,shuffle=True)"
      ],
      "execution_count": 0,
      "outputs": []
    },
    {
      "cell_type": "code",
      "metadata": {
        "id": "4JbpU1aXLOfb",
        "colab_type": "code",
        "colab": {}
      },
      "source": [
        "y_train = to_categorical(y_train)\n",
        "y_test = to_categorical(y_test)"
      ],
      "execution_count": 0,
      "outputs": []
    },
    {
      "cell_type": "code",
      "metadata": {
        "id": "NtDNeOlqXG0M",
        "colab_type": "code",
        "outputId": "09e3d3da-af5b-4df7-955e-292cbd0b2735",
        "colab": {
          "base_uri": "https://localhost:8080/",
          "height": 34
        }
      },
      "source": [
        "y_train[0]"
      ],
      "execution_count": 0,
      "outputs": [
        {
          "output_type": "execute_result",
          "data": {
            "text/plain": [
              "array([0., 0., 0., 1., 0.], dtype=float32)"
            ]
          },
          "metadata": {
            "tags": []
          },
          "execution_count": 10
        }
      ]
    },
    {
      "cell_type": "code",
      "metadata": {
        "id": "ZQcghcvmJslu",
        "colab_type": "code",
        "colab": {}
      },
      "source": [
        "checkpoint = ModelCheckpoint(\"best_model.hdf5\", monitor='loss', verbose=1,\n",
        "    save_best_only=True, mode='auto', period=1)\n",
        "reduce_learning_rate = ReduceLROnPlateau(monitor='loss',\n",
        "                                         factor=0.1,\n",
        "                                         patience=2,\n",
        "                                         cooldown=2,\n",
        "                                         min_lr=0.00001,\n",
        "                                         verbose=1)\n",
        "callbacks=reduce_learning_rate"
      ],
      "execution_count": 0,
      "outputs": []
    },
    {
      "cell_type": "code",
      "metadata": {
        "id": "fVtKlu1SK_Tb",
        "colab_type": "code",
        "outputId": "287a7ee4-07da-4eae-8a41-5d1940f3795d",
        "colab": {
          "base_uri": "https://localhost:8080/",
          "height": 205
        }
      },
      "source": [
        "model.compile(optimizer='adam',loss='categorical_crossentropy',metrics=['accuracy'])\n",
        "model.fit(X_train,y_train,validation_data=(X_test,y_test),epochs = 2 , batch_size=32 , shuffle=True, callbacks=[callbacks,checkpoint])"
      ],
      "execution_count": 0,
      "outputs": [
        {
          "output_type": "stream",
          "text": [
            "Train on 7151 samples, validate on 795 samples\n",
            "Epoch 1/2\n",
            "7151/7151 [==============================] - 335s 47ms/step - loss: 0.0552 - accuracy: 0.9827 - val_loss: 0.0087 - val_accuracy: 0.9975\n",
            "\n",
            "Epoch 00001: loss improved from inf to 0.05518, saving model to best_model.hdf5\n",
            "Epoch 2/2\n",
            "7151/7151 [==============================] - 320s 45ms/step - loss: 0.0064 - accuracy: 0.9986 - val_loss: 0.0044 - val_accuracy: 0.9987\n",
            "\n",
            "Epoch 00002: loss improved from 0.05518 to 0.00636, saving model to best_model.hdf5\n"
          ],
          "name": "stdout"
        },
        {
          "output_type": "execute_result",
          "data": {
            "text/plain": [
              "<keras.callbacks.callbacks.History at 0x7f7198393898>"
            ]
          },
          "metadata": {
            "tags": []
          },
          "execution_count": 17
        }
      ]
    },
    {
      "cell_type": "markdown",
      "metadata": {
        "id": "R8rb0AkuOM79",
        "colab_type": "text"
      },
      "source": [
        "# Confusion Matrix "
      ]
    },
    {
      "cell_type": "code",
      "metadata": {
        "id": "1Y30CFr0OMgJ",
        "colab_type": "code",
        "outputId": "f1bcf6ff-9471-47d8-cb80-75b00352cf26",
        "colab": {
          "base_uri": "https://localhost:8080/",
          "height": 366
        }
      },
      "source": [
        "from sklearn.metrics import confusion_matrix,plot_confusion_matrix\n",
        "import seaborn as sn\n",
        "\n",
        "#y_pred = model.predict(X_test)\n",
        "#y_pred = np.argmax(y_pred,axis=1)\n",
        "cm =confusion_matrix(np.argmax(y_test,axis=1), y_pred).tolist()\n",
        "cm =  pd.DataFrame(cm, index=classes, columns=classes)\n",
        "print(cm)\n",
        "ax = sn.heatmap(cm, cmap='Blues', annot=True,fmt=\"d\")"
      ],
      "execution_count": 0,
      "outputs": [
        {
          "output_type": "stream",
          "text": [
            "            Diving  Jumping  Basketball  Tennis  Walking\n",
            "Diving         179        0           0       0        0\n",
            "Jumping          0      194           0       0        0\n",
            "Basketball       0        0         113       0        0\n",
            "Tennis           0        0           0     162        0\n",
            "Walking          0        0           1       0      146\n"
          ],
          "name": "stdout"
        },
        {
          "output_type": "display_data",
          "data": {
            "image/png": "[encoded data removed]",
            "text/plain": [
              "<Figure size 432x288 with 2 Axes>"
            ]
          },
          "metadata": {
            "tags": [],
            "needs_background": "light"
          }
        }
      ]
    },
    {
      "cell_type": "code",
      "metadata": {
        "id": "DGUR2Pt6c440",
        "colab_type": "code",
        "outputId": "875b5af0-cf2d-4104-9295-5bd11c7b4d8a",
        "colab": {
          "base_uri": "https://localhost:8080/",
          "height": 121
        }
      },
      "source": [
        "model.fit(data,to_categorical(labels),batch_size=32,epochs = 2 , shuffle=True)"
      ],
      "execution_count": 0,
      "outputs": [
        {
          "output_type": "stream",
          "text": [
            "Epoch 1/2\n",
            "7946/7946 [==============================] - 77s 10ms/step - loss: 0.0042 - accuracy: 0.9994\n",
            "Epoch 2/2\n",
            "7946/7946 [==============================] - 77s 10ms/step - loss: 0.0018 - accuracy: 1.0000\n"
          ],
          "name": "stdout"
        },
        {
          "output_type": "execute_result",
          "data": {
            "text/plain": [
              "<keras.callbacks.callbacks.History at 0x7f2610113be0>"
            ]
          },
          "metadata": {
            "tags": []
          },
          "execution_count": 28
        }
      ]
    },
    {
      "cell_type": "code",
      "metadata": {
        "id": "zxUXdZ4Xcz_4",
        "colab_type": "code",
        "outputId": "6c248fe0-b10a-400a-fd27-1190073c3a82",
        "colab": {
          "base_uri": "https://localhost:8080/",
          "height": 1000
        }
      },
      "source": [
        "test_path = '/content/gdrive/My Drive/vision project/Testing'\n",
        "lab =[]\n",
        "names=[]\n",
        "for video in os.listdir(test_path):\n",
        "        frames=[]\n",
        "        cap=cv2.VideoCapture(test_path+'/'+video)\n",
        "        length = int(cap.get(cv2.CAP_PROP_FRAME_COUNT))\n",
        "        while(True):\n",
        "              ret, frame = cap.read()\n",
        "              if frame is None : \n",
        "                 break\n",
        "              frame=cv2.resize(frame,(112,112))\n",
        "              frames.append(frame)\n",
        "        prds = np.zeros((5,1))\n",
        "        for i in range(0,np.shape(frames)[0],10):\n",
        "           if i+16 < np.shape(frames)[0]:\n",
        "             prd = model.predict(np.reshape(frames[i:i+16],(1,16,112,112,3)))\n",
        "             prd = np.argmax(prd)\n",
        "             prds[prd]+=1\n",
        "        print(np.argmax(prds))\n",
        "        print(video)\n",
        "        lab.append(np.argmax(prds))\n",
        "        names.append(video)\n",
        "              \n",
        "        "
      ],
      "execution_count": 0,
      "outputs": [
        {
          "output_type": "stream",
          "text": [
            "3\n",
            "test_image (88).mpg\n",
            "3\n",
            "test_image (89).mpg\n",
            "3\n",
            "test_image (90).mpg\n",
            "3\n",
            "test_image (91).mpg\n",
            "3\n",
            "test_image (92).mpg\n",
            "3\n",
            "test_image (93).mpg\n",
            "3\n",
            "test_image (94).mpg\n",
            "3\n",
            "test_image (95).mpg\n",
            "3\n",
            "test_image (97).mpg\n",
            "3\n",
            "test_image (98).mpg\n",
            "3\n",
            "test_image (96).mpg\n",
            "3\n",
            "test_image (100).mpg\n",
            "3\n",
            "test_image (99).mpg\n",
            "3\n",
            "test_image (101).mpg\n",
            "3\n",
            "test_image (103).mpg\n",
            "3\n",
            "test_image (102).mpg\n",
            "3\n",
            "test_image (105).mpg\n",
            "3\n",
            "test_image (104).mpg\n",
            "3\n",
            "test_image (106).mpg\n",
            "3\n",
            "test_image (87).mpg\n",
            "1\n",
            "test_image (33).mpg\n",
            "1\n",
            "test_image (34).mpg\n",
            "1\n",
            "test_image (35).mpg\n",
            "1\n",
            "test_image (36).mpg\n",
            "1\n",
            "test_image (37).mpg\n",
            "1\n",
            "test_image (38).mpg\n",
            "1\n",
            "test_image (39).mpg\n",
            "1\n",
            "test_image (40).mpg\n",
            "1\n",
            "test_image (41).mpg\n",
            "1\n",
            "test_image (44).mpg\n",
            "1\n",
            "test_image (43).mpg\n",
            "1\n",
            "test_image (42).mpg\n",
            "1\n",
            "test_image (46).mpg\n",
            "1\n",
            "test_image (45).mpg\n",
            "1\n",
            "test_image (47).mpg\n",
            "1\n",
            "test_image (48).mpg\n",
            "1\n",
            "test_image (49).mpg\n",
            "1\n",
            "test_image (32).mpg\n",
            "1\n",
            "test_image (51).mpg\n",
            "1\n",
            "test_image (50).mpg\n",
            "4\n",
            "test_image (108).mpg\n",
            "4\n",
            "test_image (109).mpg\n",
            "4\n",
            "test_image (110).mpg\n",
            "4\n",
            "test_image (111).mpg\n",
            "4\n",
            "test_image (112).mpg\n",
            "4\n",
            "test_image (113).mpg\n",
            "4\n",
            "test_image (114).mpg\n",
            "4\n",
            "test_image (116).mpg\n",
            "4\n",
            "test_image (115).mpg\n",
            "4\n",
            "test_image (118).mpg\n",
            "4\n",
            "test_image (117).mpg\n",
            "4\n",
            "test_image (119).mpg\n",
            "4\n",
            "test_image (120).mpg\n",
            "4\n",
            "test_image (121).mpg\n",
            "4\n",
            "test_image (122).mpg\n",
            "4\n",
            "test_image (123).mpg\n",
            "4\n",
            "test_image (124).mpg\n",
            "4\n",
            "test_image (125).mpg\n",
            "4\n",
            "test_image (126).mpg\n",
            "4\n",
            "test_image (107).mpg\n",
            "2\n",
            "test_image (53).mpg\n",
            "2\n",
            "test_image (54).mpg\n",
            "2\n",
            "test_image (56).mpg\n",
            "2\n",
            "test_image (55).mpg\n",
            "2\n",
            "test_image (57).mpg\n",
            "2\n",
            "test_image (58).mpg\n",
            "2\n",
            "test_image (60).mpg\n",
            "2\n",
            "test_image (59).mpg\n",
            "2\n",
            "test_image (61).mpg\n",
            "2\n",
            "test_image (63).mpg\n",
            "2\n",
            "test_image (62).mpg\n",
            "2\n",
            "test_image (64).mpg\n",
            "2\n",
            "test_image (65).mpg\n",
            "2\n",
            "test_image (66).mpg\n",
            "2\n",
            "test_image (67).mpg\n",
            "2\n",
            "test_image (68).mpg\n",
            "2\n",
            "test_image (69).mpg\n",
            "2\n",
            "test_image (71).mpg\n",
            "2\n",
            "test_image (73).mpg\n",
            "2\n",
            "test_image (70).mpg\n",
            "2\n",
            "test_image (72).mpg\n",
            "2\n",
            "test_image (75).mpg\n",
            "2\n",
            "test_image (74).mpg\n",
            "2\n",
            "test_image (77).mpg\n",
            "2\n",
            "test_image (76).mpg\n",
            "2\n",
            "test_image (79).mpg\n",
            "2\n",
            "test_image (80).mpg\n",
            "2\n",
            "test_image (81).mpg\n",
            "2\n",
            "test_image (78).mpg\n",
            "2\n",
            "test_image (83).mpg\n",
            "2\n",
            "test_image (82).mpg\n",
            "2\n",
            "test_image (84).mpg\n",
            "2\n",
            "test_image (85).mpg\n",
            "2\n",
            "test_image (52).mpg\n",
            "2\n",
            "test_image (86).mpg\n",
            "0\n",
            "test_image (3).mpg\n",
            "0\n",
            "test_image (2).mpg\n",
            "0\n",
            "test_image (4).mpg\n",
            "0\n",
            "test_image (6).mpg\n",
            "0\n",
            "test_image (5).mpg\n",
            "0\n",
            "test_image (7).mpg\n",
            "0\n",
            "test_image (8).mpg\n",
            "0\n",
            "test_image (11).mpg\n",
            "0\n",
            "test_image (9).mpg\n",
            "0\n",
            "test_image (10).mpg\n",
            "0\n",
            "test_image (14).mpg\n",
            "0\n",
            "test_image (12).mpg\n",
            "0\n",
            "test_image (13).mpg\n",
            "0\n",
            "test_image (15).mpg\n",
            "0\n",
            "test_image (16).mpg\n",
            "0\n",
            "test_image (17).mpg\n",
            "0\n",
            "test_image (18).mpg\n",
            "0\n",
            "test_image (19).mpg\n",
            "0\n",
            "test_image (20).mpg\n",
            "0\n",
            "test_image (21).mpg\n",
            "0\n",
            "test_image (24).mpg\n",
            "0\n",
            "test_image (23).mpg\n",
            "0\n",
            "test_image (22).mpg\n",
            "0\n",
            "test_image (25).mpg\n",
            "0\n",
            "test_image (26).mpg\n",
            "0\n",
            "test_image (28).mpg\n",
            "0\n",
            "test_image (29).mpg\n",
            "0\n",
            "test_image (27).mpg\n",
            "0\n",
            "test_image (30).mpg\n",
            "0\n",
            "test_image (31).mpg\n",
            "0\n",
            "test_image (1).mpg\n"
          ],
          "name": "stdout"
        }
      ]
    },
    {
      "cell_type": "code",
      "metadata": {
        "id": "3D9L9E0Y7fRp",
        "colab_type": "code",
        "colab": {}
      },
      "source": [
        "df = pd.DataFrame(list(zip(names, lab)), \n",
        "               columns =['Video', 'Label']) "
      ],
      "execution_count": 0,
      "outputs": []
    },
    {
      "cell_type": "code",
      "metadata": {
        "id": "NvCztpLSVc1i",
        "colab_type": "code",
        "outputId": "7a38a7e4-e474-4a62-c987-d32ea475e67d",
        "colab": {
          "base_uri": "https://localhost:8080/",
          "height": 50
        }
      },
      "source": [
        "df.to_csv('submission.csv',index=False)\n",
        "!kaggle competitions submit computervisioncompetitionsc2020 -f \"submission.csv\" -m \"Submission from API\""
      ],
      "execution_count": 0,
      "outputs": [
        {
          "output_type": "stream",
          "text": [
            "100% 2.74k/2.74k [00:06<00:00, 401B/s]\n",
            "Successfully submitted to Computer Vision Competition [SC-2020]"
          ],
          "name": "stdout"
        }
      ]
    },
    {
      "cell_type": "code",
      "metadata": {
        "id": "-Sxa8xmEV7cF",
        "colab_type": "code",
        "colab": {}
      },
      "source": [
        "model.save('/content/gdrive/My Drive/vision project/submission2.h5')"
      ],
      "execution_count": 0,
      "outputs": []
    },
    {
      "cell_type": "code",
      "metadata": {
        "id": "km-L1oLHW8i9",
        "colab_type": "code",
        "colab": {}
      },
      "source": [
        ""
      ],
      "execution_count": 0,
      "outputs": []
    }
  ]
}